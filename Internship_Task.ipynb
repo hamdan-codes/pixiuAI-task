{
 "cells": [
  {
   "cell_type": "markdown",
   "metadata": {},
   "source": [
    "# CHAUDHARY HAMDAN\n",
    "## ch.hamdan.edu@gmail.com\n",
    "### Data Science Internship"
   ]
  },
  {
   "cell_type": "code",
   "execution_count": null,
   "metadata": {},
   "outputs": [],
   "source": []
  },
  {
   "cell_type": "markdown",
   "metadata": {},
   "source": [
    "# Problem Statement 1"
   ]
  },
  {
   "cell_type": "markdown",
   "metadata": {},
   "source": [
    "### Question 1\n",
    "<img src=\"https://github.com/hamdan-codes/none-but-some/blob/main/1_1.PNG?raw=true\" alt=\"Problem_1_Question_1\">"
   ]
  },
  {
   "cell_type": "markdown",
   "metadata": {},
   "source": [
    "## Solution : \n",
    "<br>\n",
    "##### SELECT cust.cust_name,cust.city, ord.ord_no, ord.ord_date, ord.purch_amt \n",
    "(Selecting required attributes from the two tables)\n",
    "##### FROM customer cust FULL OUTER JOIN orders ord  \n",
    "(The two tables are joined using Outer Join algo) \n",
    "##### ON cust.customer_id=ord.customer_id \n",
    "(Condition : join attributes where customer id of both tables are same)\n",
    "##### WHERE cust.grade IS NOT NULL;      \n",
    "(Condition : Grade is required to be Not NULL)\n"
   ]
  },
  {
   "cell_type": "markdown",
   "metadata": {},
   "source": [
    "### Question 2\n",
    "<img src=\"https://github.com/hamdan-codes/none-but-some/blob/main/1_2.PNG?raw=true\" alt=\"Problem_1_Question_2\">\n"
   ]
  },
  {
   "cell_type": "markdown",
   "metadata": {},
   "source": [
    "## Solution : \n",
    "<br>\n",
    "##### SELECT * FROM salesman\n",
    "(Selecting all attributes from the table)\n",
    "##### WHERE name NOT BETWEEN 'A' and 'M';\n",
    "(For excluding characters A to L (both inclusive), we have to go using M in query)<br>\n",
    "(If L in excluded then we will write L rather than M here)"
   ]
  },
  {
   "cell_type": "markdown",
   "metadata": {},
   "source": [
    "### Question 3\n",
    "<img src=\"https://github.com/hamdan-codes/none-but-some/blob/main/1_3.PNG?raw=true\" alt=\"Problem_1_Question_3\">"
   ]
  },
  {
   "cell_type": "markdown",
   "metadata": {},
   "source": [
    "## Solution : \n",
    "<br>\n",
    "##### SELECT sub1.user_id, (CASE WHEN sub2.user_id IS NOT NULL THEN \"True\" ELSE \"False\" END) \n",
    "(Selecting the attributes and marking true false as desired)\n",
    "##### FROM subscriptions AS sub1 LEFT JOIN subscriptions AS sub2\n",
    "(Marking and giving Alias for join)\n",
    "##### ON sub1.user_id != sub2.user_id \n",
    "(Condition : Userid to be different)\n",
    "##### AND sub1.start_date <= sub2.end_date AND sub1.end_date >= sub2.start_date\n",
    "(Overlapping dates)\n",
    "##### GROUP BY sub1.user_id;\n",
    "(Grouping and giving the desired Outputs)"
   ]
  },
  {
   "cell_type": "markdown",
   "metadata": {},
   "source": [
    "<hr>"
   ]
  },
  {
   "cell_type": "code",
   "execution_count": null,
   "metadata": {},
   "outputs": [],
   "source": []
  },
  {
   "cell_type": "markdown",
   "metadata": {},
   "source": [
    "# Problem Statement 2"
   ]
  },
  {
   "cell_type": "markdown",
   "metadata": {},
   "source": [
    "### Question 1 <br>\n",
    "Write a Python program that accepts a hyphen-separated sequence of words as input and prints the words in a hyphen-separated sequence after sorting them alphabetically [1 point] <br>\n",
    "Sample Items : green-red-yellow-black-white <br>\n",
    "Expected Result : black-green-red-white-yellow"
   ]
  },
  {
   "cell_type": "markdown",
   "metadata": {},
   "source": [
    "## Solution : "
   ]
  },
  {
   "cell_type": "code",
   "execution_count": 1,
   "metadata": {},
   "outputs": [
    {
     "name": "stdout",
     "output_type": "stream",
     "text": [
      "green-red-yellow-black-white\n",
      "black-green-red-white-yellow\n"
     ]
    }
   ],
   "source": [
    "inp = input().split('-') \n",
    "# Input comes as a single string so we split it separated by a '-' and is stored in as a list\n",
    "\n",
    "inp = sorted(inp)\n",
    "# Sort this list alphabetically using the inbuilt sort function\n",
    "\n",
    "print('-'.join(inp))\n",
    "# Printing the desired output i.e. the list sorted alphabetically joined by a '-' \n"
   ]
  },
  {
   "cell_type": "markdown",
   "metadata": {},
   "source": [
    "### Question 2 <br>\n",
    "Write a Python function that prints out the first n rows of Pascal's triangle. [2 points]"
   ]
  },
  {
   "cell_type": "markdown",
   "metadata": {},
   "source": [
    "## Solution : "
   ]
  },
  {
   "cell_type": "code",
   "execution_count": 2,
   "metadata": {},
   "outputs": [
    {
     "name": "stdout",
     "output_type": "stream",
     "text": [
      "Enter size : 6\n",
      "1 \n",
      "1 1 \n",
      "1 2 1 \n",
      "1 3 3 1 \n",
      "1 4 6 4 1 \n",
      "1 5 10 10 5 1 \n"
     ]
    }
   ],
   "source": [
    "def giveNumAsBinomial(n, k):\n",
    "    res = 1\n",
    "    for i in range(k):\n",
    "    # Going to the ith coefficient for nth Binomial\n",
    "        res = res * (n - i)\n",
    "        res = res // (i + 1)\n",
    "        # Computing value by using Binomial Theorem as Binomial Coefficient\n",
    "        \n",
    "    return res\n",
    "    # Returning value to be printed\n",
    "\n",
    "def pascalTriangle(n):\n",
    "# Function accepting the size \n",
    "    for i in range(n):\n",
    "    # Iterating through all rows\n",
    "        for j in range(i + 1):\n",
    "        # In ith row go to jth column if it exists in the Pascal's Triangle\n",
    "            print(giveNumAsBinomial(i, j), end = \" \") \n",
    "            # Printing desired value and making sure writer doesn't go to next line for now \n",
    "        print() \n",
    "        # Getting to the next line\n",
    "\n",
    "n = int(input(\"Enter size : \"))\n",
    "# Input for Pascal's Triangle\n",
    "\n",
    "pascalTriangle(n)\n",
    "# Invoking Function for the desired size\n"
   ]
  },
  {
   "cell_type": "markdown",
   "metadata": {},
   "source": [
    "<hr>"
   ]
  },
  {
   "cell_type": "code",
   "execution_count": null,
   "metadata": {},
   "outputs": [],
   "source": []
  },
  {
   "cell_type": "markdown",
   "metadata": {},
   "source": [
    "# Problem Statement 3\n",
    "<img src=\"https://github.com/hamdan-codes/none-but-some/blob/main/3.PNG?raw=true\" alt=\"Problem_3\">"
   ]
  },
  {
   "cell_type": "markdown",
   "metadata": {},
   "source": [
    "## Solution : "
   ]
  },
  {
   "cell_type": "code",
   "execution_count": 3,
   "metadata": {},
   "outputs": [],
   "source": [
    "# Import of libraries required \n",
    "import numpy as np # Linear Algebra\n",
    "import pandas as pd # Datafraem related\n",
    "import matplotlib.pyplot as plt # Plots\n",
    "import os # Files loader\n",
    "import seaborn as sns # Plotting"
   ]
  },
  {
   "cell_type": "code",
   "execution_count": 4,
   "metadata": {},
   "outputs": [
    {
     "name": "stdout",
     "output_type": "stream",
     "text": [
      "archive\\2014_Financial_Data.csv\n",
      "archive\\2015_Financial_Data.csv\n",
      "archive\\2016_Financial_Data.csv\n"
     ]
    }
   ],
   "source": [
    "# Getting filenames in archive directory\n",
    "for dirname, _, filenames in os.walk('archive'):\n",
    "    for filename in filenames:\n",
    "        print(os.path.join(dirname, filename))"
   ]
  },
  {
   "cell_type": "code",
   "execution_count": 5,
   "metadata": {},
   "outputs": [],
   "source": [
    "# Reading CSVs, creating dataframes\n",
    "df_2014 = pd.read_csv('archive/2014_Financial_Data.csv')\n",
    "df_2015 = pd.read_csv('archive/2015_Financial_Data.csv')\n",
    "df_2016 = pd.read_csv('archive/2016_Financial_Data.csv')"
   ]
  },
  {
   "cell_type": "code",
   "execution_count": 6,
   "metadata": {},
   "outputs": [
    {
     "name": "stdout",
     "output_type": "stream",
     "text": [
      "Shape of data for Year 2014 is (3808, 225)\n",
      "Shape of data for Year 2015 is (4120, 225)\n",
      "Shape of data for Year 2016 is (4797, 225)\n"
     ]
    }
   ],
   "source": [
    "# A look at the shapes of the dataframes\n",
    "print(\"Shape of data for Year 2014 is {}\".format(df_2014.shape))\n",
    "print(\"Shape of data for Year 2015 is {}\".format(df_2015.shape))\n",
    "print(\"Shape of data for Year 2016 is {}\".format(df_2016.shape))"
   ]
  },
  {
   "cell_type": "code",
   "execution_count": 7,
   "metadata": {},
   "outputs": [
    {
     "name": "stdout",
     "output_type": "stream",
     "text": [
      "<class 'pandas.core.frame.DataFrame'>\n",
      "RangeIndex: 3808 entries, 0 to 3807\n",
      "Columns: 225 entries, Unnamed: 0 to Class\n",
      "dtypes: float64(222), int64(1), object(2)\n",
      "memory usage: 6.5+ MB\n"
     ]
    }
   ],
   "source": [
    "# Information about a Dataframe\n",
    "df_2014.info()"
   ]
  },
  {
   "cell_type": "code",
   "execution_count": 8,
   "metadata": {},
   "outputs": [
    {
     "data": {
      "text/html": [
       "<div>\n",
       "<style scoped>\n",
       "    .dataframe tbody tr th:only-of-type {\n",
       "        vertical-align: middle;\n",
       "    }\n",
       "\n",
       "    .dataframe tbody tr th {\n",
       "        vertical-align: top;\n",
       "    }\n",
       "\n",
       "    .dataframe thead th {\n",
       "        text-align: right;\n",
       "    }\n",
       "</style>\n",
       "<table border=\"1\" class=\"dataframe\">\n",
       "  <thead>\n",
       "    <tr style=\"text-align: right;\">\n",
       "      <th></th>\n",
       "      <th>Unnamed: 0</th>\n",
       "      <th>Revenue</th>\n",
       "      <th>Revenue Growth</th>\n",
       "      <th>Cost of Revenue</th>\n",
       "      <th>Gross Profit</th>\n",
       "      <th>R&amp;D Expenses</th>\n",
       "      <th>SG&amp;A Expense</th>\n",
       "      <th>Operating Expenses</th>\n",
       "      <th>Operating Income</th>\n",
       "      <th>Interest Expense</th>\n",
       "      <th>...</th>\n",
       "      <th>Receivables growth</th>\n",
       "      <th>Inventory Growth</th>\n",
       "      <th>Asset Growth</th>\n",
       "      <th>Book Value per Share Growth</th>\n",
       "      <th>Debt Growth</th>\n",
       "      <th>R&amp;D Expense Growth</th>\n",
       "      <th>SG&amp;A Expenses Growth</th>\n",
       "      <th>Sector</th>\n",
       "      <th>2015 PRICE VAR [%]</th>\n",
       "      <th>Class</th>\n",
       "    </tr>\n",
       "  </thead>\n",
       "  <tbody>\n",
       "    <tr>\n",
       "      <th>0</th>\n",
       "      <td>PG</td>\n",
       "      <td>7.440100e+10</td>\n",
       "      <td>-0.0713</td>\n",
       "      <td>3.903000e+10</td>\n",
       "      <td>3.537100e+10</td>\n",
       "      <td>0.000000e+00</td>\n",
       "      <td>2.146100e+10</td>\n",
       "      <td>2.146100e+10</td>\n",
       "      <td>1.391000e+10</td>\n",
       "      <td>7.090000e+08</td>\n",
       "      <td>...</td>\n",
       "      <td>-0.0187</td>\n",
       "      <td>-0.0217</td>\n",
       "      <td>0.0359</td>\n",
       "      <td>0.0316</td>\n",
       "      <td>0.1228</td>\n",
       "      <td>0.0000</td>\n",
       "      <td>-0.1746</td>\n",
       "      <td>Consumer Defensive</td>\n",
       "      <td>-9.323276</td>\n",
       "      <td>0</td>\n",
       "    </tr>\n",
       "    <tr>\n",
       "      <th>1</th>\n",
       "      <td>VIPS</td>\n",
       "      <td>3.734148e+09</td>\n",
       "      <td>1.1737</td>\n",
       "      <td>2.805625e+09</td>\n",
       "      <td>9.285226e+08</td>\n",
       "      <td>1.083303e+08</td>\n",
       "      <td>3.441414e+08</td>\n",
       "      <td>7.939267e+08</td>\n",
       "      <td>1.345959e+08</td>\n",
       "      <td>1.214869e+07</td>\n",
       "      <td>...</td>\n",
       "      <td>NaN</td>\n",
       "      <td>NaN</td>\n",
       "      <td>NaN</td>\n",
       "      <td>NaN</td>\n",
       "      <td>NaN</td>\n",
       "      <td>1.6484</td>\n",
       "      <td>1.7313</td>\n",
       "      <td>Consumer Defensive</td>\n",
       "      <td>-25.512193</td>\n",
       "      <td>0</td>\n",
       "    </tr>\n",
       "    <tr>\n",
       "      <th>2</th>\n",
       "      <td>KR</td>\n",
       "      <td>9.837500e+10</td>\n",
       "      <td>0.0182</td>\n",
       "      <td>7.813800e+10</td>\n",
       "      <td>2.023700e+10</td>\n",
       "      <td>0.000000e+00</td>\n",
       "      <td>1.519600e+10</td>\n",
       "      <td>1.751200e+10</td>\n",
       "      <td>2.725000e+09</td>\n",
       "      <td>4.430000e+08</td>\n",
       "      <td>...</td>\n",
       "      <td>0.0618</td>\n",
       "      <td>0.0981</td>\n",
       "      <td>0.1886</td>\n",
       "      <td>0.3268</td>\n",
       "      <td>0.2738</td>\n",
       "      <td>0.0000</td>\n",
       "      <td>0.0234</td>\n",
       "      <td>Consumer Defensive</td>\n",
       "      <td>33.118297</td>\n",
       "      <td>1</td>\n",
       "    </tr>\n",
       "    <tr>\n",
       "      <th>3</th>\n",
       "      <td>RAD</td>\n",
       "      <td>2.552641e+10</td>\n",
       "      <td>0.0053</td>\n",
       "      <td>1.820268e+10</td>\n",
       "      <td>7.323734e+09</td>\n",
       "      <td>0.000000e+00</td>\n",
       "      <td>6.561162e+09</td>\n",
       "      <td>6.586482e+09</td>\n",
       "      <td>7.372520e+08</td>\n",
       "      <td>4.245910e+08</td>\n",
       "      <td>...</td>\n",
       "      <td>0.0211</td>\n",
       "      <td>-0.0510</td>\n",
       "      <td>-0.0189</td>\n",
       "      <td>0.1963</td>\n",
       "      <td>-0.0458</td>\n",
       "      <td>0.0000</td>\n",
       "      <td>-0.0060</td>\n",
       "      <td>Consumer Defensive</td>\n",
       "      <td>2.752291</td>\n",
       "      <td>1</td>\n",
       "    </tr>\n",
       "    <tr>\n",
       "      <th>4</th>\n",
       "      <td>GIS</td>\n",
       "      <td>1.790960e+10</td>\n",
       "      <td>0.0076</td>\n",
       "      <td>1.153980e+10</td>\n",
       "      <td>6.369800e+09</td>\n",
       "      <td>0.000000e+00</td>\n",
       "      <td>3.474300e+09</td>\n",
       "      <td>3.412400e+09</td>\n",
       "      <td>2.957400e+09</td>\n",
       "      <td>3.024000e+08</td>\n",
       "      <td>...</td>\n",
       "      <td>0.0257</td>\n",
       "      <td>0.0090</td>\n",
       "      <td>0.0215</td>\n",
       "      <td>0.0274</td>\n",
       "      <td>0.1025</td>\n",
       "      <td>0.0000</td>\n",
       "      <td>-0.0220</td>\n",
       "      <td>Consumer Defensive</td>\n",
       "      <td>12.897715</td>\n",
       "      <td>1</td>\n",
       "    </tr>\n",
       "    <tr>\n",
       "      <th>...</th>\n",
       "      <td>...</td>\n",
       "      <td>...</td>\n",
       "      <td>...</td>\n",
       "      <td>...</td>\n",
       "      <td>...</td>\n",
       "      <td>...</td>\n",
       "      <td>...</td>\n",
       "      <td>...</td>\n",
       "      <td>...</td>\n",
       "      <td>...</td>\n",
       "      <td>...</td>\n",
       "      <td>...</td>\n",
       "      <td>...</td>\n",
       "      <td>...</td>\n",
       "      <td>...</td>\n",
       "      <td>...</td>\n",
       "      <td>...</td>\n",
       "      <td>...</td>\n",
       "      <td>...</td>\n",
       "      <td>...</td>\n",
       "      <td>...</td>\n",
       "    </tr>\n",
       "    <tr>\n",
       "      <th>3803</th>\n",
       "      <td>TSRI</td>\n",
       "      <td>4.952987e+07</td>\n",
       "      <td>0.1028</td>\n",
       "      <td>4.125164e+07</td>\n",
       "      <td>8.278229e+06</td>\n",
       "      <td>0.000000e+00</td>\n",
       "      <td>8.253061e+06</td>\n",
       "      <td>8.253061e+06</td>\n",
       "      <td>2.516800e+04</td>\n",
       "      <td>0.000000e+00</td>\n",
       "      <td>...</td>\n",
       "      <td>-0.0384</td>\n",
       "      <td>0.0000</td>\n",
       "      <td>-0.0041</td>\n",
       "      <td>-0.0049</td>\n",
       "      <td>0.0000</td>\n",
       "      <td>0.0000</td>\n",
       "      <td>0.0213</td>\n",
       "      <td>Technology</td>\n",
       "      <td>29.362884</td>\n",
       "      <td>1</td>\n",
       "    </tr>\n",
       "    <tr>\n",
       "      <th>3804</th>\n",
       "      <td>TZOO</td>\n",
       "      <td>1.532400e+08</td>\n",
       "      <td>-0.1019</td>\n",
       "      <td>1.917400e+07</td>\n",
       "      <td>1.340660e+08</td>\n",
       "      <td>1.132600e+07</td>\n",
       "      <td>1.125130e+08</td>\n",
       "      <td>1.162560e+08</td>\n",
       "      <td>1.781000e+07</td>\n",
       "      <td>0.000000e+00</td>\n",
       "      <td>...</td>\n",
       "      <td>0.1529</td>\n",
       "      <td>0.0000</td>\n",
       "      <td>-0.1872</td>\n",
       "      <td>0.1823</td>\n",
       "      <td>0.0000</td>\n",
       "      <td>0.2830</td>\n",
       "      <td>-0.0637</td>\n",
       "      <td>Technology</td>\n",
       "      <td>-31.167763</td>\n",
       "      <td>0</td>\n",
       "    </tr>\n",
       "    <tr>\n",
       "      <th>3805</th>\n",
       "      <td>USATP</td>\n",
       "      <td>4.200000e+07</td>\n",
       "      <td>NaN</td>\n",
       "      <td>2.700000e+07</td>\n",
       "      <td>1.500000e+07</td>\n",
       "      <td>NaN</td>\n",
       "      <td>1.400000e+07</td>\n",
       "      <td>1.500000e+07</td>\n",
       "      <td>0.000000e+00</td>\n",
       "      <td>0.000000e+00</td>\n",
       "      <td>...</td>\n",
       "      <td>NaN</td>\n",
       "      <td>NaN</td>\n",
       "      <td>NaN</td>\n",
       "      <td>NaN</td>\n",
       "      <td>NaN</td>\n",
       "      <td>NaN</td>\n",
       "      <td>NaN</td>\n",
       "      <td>Technology</td>\n",
       "      <td>-23.558900</td>\n",
       "      <td>0</td>\n",
       "    </tr>\n",
       "    <tr>\n",
       "      <th>3806</th>\n",
       "      <td>WSTG</td>\n",
       "      <td>3.407580e+08</td>\n",
       "      <td>0.1344</td>\n",
       "      <td>3.159480e+08</td>\n",
       "      <td>2.481000e+07</td>\n",
       "      <td>0.000000e+00</td>\n",
       "      <td>1.651300e+07</td>\n",
       "      <td>1.651300e+07</td>\n",
       "      <td>8.297000e+06</td>\n",
       "      <td>-4.720000e+05</td>\n",
       "      <td>...</td>\n",
       "      <td>-0.0333</td>\n",
       "      <td>0.1338</td>\n",
       "      <td>0.0023</td>\n",
       "      <td>0.0890</td>\n",
       "      <td>0.0000</td>\n",
       "      <td>0.0000</td>\n",
       "      <td>0.0650</td>\n",
       "      <td>Technology</td>\n",
       "      <td>7.779579</td>\n",
       "      <td>1</td>\n",
       "    </tr>\n",
       "    <tr>\n",
       "      <th>3807</th>\n",
       "      <td>WTT</td>\n",
       "      <td>4.033737e+07</td>\n",
       "      <td>0.1925</td>\n",
       "      <td>2.129368e+07</td>\n",
       "      <td>1.904369e+07</td>\n",
       "      <td>3.379920e+06</td>\n",
       "      <td>1.098477e+07</td>\n",
       "      <td>1.436469e+07</td>\n",
       "      <td>4.679002e+06</td>\n",
       "      <td>0.000000e+00</td>\n",
       "      <td>...</td>\n",
       "      <td>-0.0469</td>\n",
       "      <td>0.0455</td>\n",
       "      <td>-0.1646</td>\n",
       "      <td>-0.0226</td>\n",
       "      <td>-0.4594</td>\n",
       "      <td>0.2778</td>\n",
       "      <td>-0.0268</td>\n",
       "      <td>Technology</td>\n",
       "      <td>-34.099613</td>\n",
       "      <td>0</td>\n",
       "    </tr>\n",
       "  </tbody>\n",
       "</table>\n",
       "<p>3808 rows × 225 columns</p>\n",
       "</div>"
      ],
      "text/plain": [
       "     Unnamed: 0       Revenue  Revenue Growth  Cost of Revenue  Gross Profit  \\\n",
       "0            PG  7.440100e+10         -0.0713     3.903000e+10  3.537100e+10   \n",
       "1          VIPS  3.734148e+09          1.1737     2.805625e+09  9.285226e+08   \n",
       "2            KR  9.837500e+10          0.0182     7.813800e+10  2.023700e+10   \n",
       "3           RAD  2.552641e+10          0.0053     1.820268e+10  7.323734e+09   \n",
       "4           GIS  1.790960e+10          0.0076     1.153980e+10  6.369800e+09   \n",
       "...         ...           ...             ...              ...           ...   \n",
       "3803       TSRI  4.952987e+07          0.1028     4.125164e+07  8.278229e+06   \n",
       "3804       TZOO  1.532400e+08         -0.1019     1.917400e+07  1.340660e+08   \n",
       "3805      USATP  4.200000e+07             NaN     2.700000e+07  1.500000e+07   \n",
       "3806       WSTG  3.407580e+08          0.1344     3.159480e+08  2.481000e+07   \n",
       "3807        WTT  4.033737e+07          0.1925     2.129368e+07  1.904369e+07   \n",
       "\n",
       "      R&D Expenses  SG&A Expense  Operating Expenses  Operating Income  \\\n",
       "0     0.000000e+00  2.146100e+10        2.146100e+10      1.391000e+10   \n",
       "1     1.083303e+08  3.441414e+08        7.939267e+08      1.345959e+08   \n",
       "2     0.000000e+00  1.519600e+10        1.751200e+10      2.725000e+09   \n",
       "3     0.000000e+00  6.561162e+09        6.586482e+09      7.372520e+08   \n",
       "4     0.000000e+00  3.474300e+09        3.412400e+09      2.957400e+09   \n",
       "...            ...           ...                 ...               ...   \n",
       "3803  0.000000e+00  8.253061e+06        8.253061e+06      2.516800e+04   \n",
       "3804  1.132600e+07  1.125130e+08        1.162560e+08      1.781000e+07   \n",
       "3805           NaN  1.400000e+07        1.500000e+07      0.000000e+00   \n",
       "3806  0.000000e+00  1.651300e+07        1.651300e+07      8.297000e+06   \n",
       "3807  3.379920e+06  1.098477e+07        1.436469e+07      4.679002e+06   \n",
       "\n",
       "      Interest Expense  ...  Receivables growth  Inventory Growth  \\\n",
       "0         7.090000e+08  ...             -0.0187           -0.0217   \n",
       "1         1.214869e+07  ...                 NaN               NaN   \n",
       "2         4.430000e+08  ...              0.0618            0.0981   \n",
       "3         4.245910e+08  ...              0.0211           -0.0510   \n",
       "4         3.024000e+08  ...              0.0257            0.0090   \n",
       "...                ...  ...                 ...               ...   \n",
       "3803      0.000000e+00  ...             -0.0384            0.0000   \n",
       "3804      0.000000e+00  ...              0.1529            0.0000   \n",
       "3805      0.000000e+00  ...                 NaN               NaN   \n",
       "3806     -4.720000e+05  ...             -0.0333            0.1338   \n",
       "3807      0.000000e+00  ...             -0.0469            0.0455   \n",
       "\n",
       "      Asset Growth  Book Value per Share Growth  Debt Growth  \\\n",
       "0           0.0359                       0.0316       0.1228   \n",
       "1              NaN                          NaN          NaN   \n",
       "2           0.1886                       0.3268       0.2738   \n",
       "3          -0.0189                       0.1963      -0.0458   \n",
       "4           0.0215                       0.0274       0.1025   \n",
       "...            ...                          ...          ...   \n",
       "3803       -0.0041                      -0.0049       0.0000   \n",
       "3804       -0.1872                       0.1823       0.0000   \n",
       "3805           NaN                          NaN          NaN   \n",
       "3806        0.0023                       0.0890       0.0000   \n",
       "3807       -0.1646                      -0.0226      -0.4594   \n",
       "\n",
       "      R&D Expense Growth  SG&A Expenses Growth              Sector  \\\n",
       "0                 0.0000               -0.1746  Consumer Defensive   \n",
       "1                 1.6484                1.7313  Consumer Defensive   \n",
       "2                 0.0000                0.0234  Consumer Defensive   \n",
       "3                 0.0000               -0.0060  Consumer Defensive   \n",
       "4                 0.0000               -0.0220  Consumer Defensive   \n",
       "...                  ...                   ...                 ...   \n",
       "3803              0.0000                0.0213          Technology   \n",
       "3804              0.2830               -0.0637          Technology   \n",
       "3805                 NaN                   NaN          Technology   \n",
       "3806              0.0000                0.0650          Technology   \n",
       "3807              0.2778               -0.0268          Technology   \n",
       "\n",
       "      2015 PRICE VAR [%]  Class  \n",
       "0              -9.323276      0  \n",
       "1             -25.512193      0  \n",
       "2              33.118297      1  \n",
       "3               2.752291      1  \n",
       "4              12.897715      1  \n",
       "...                  ...    ...  \n",
       "3803           29.362884      1  \n",
       "3804          -31.167763      0  \n",
       "3805          -23.558900      0  \n",
       "3806            7.779579      1  \n",
       "3807          -34.099613      0  \n",
       "\n",
       "[3808 rows x 225 columns]"
      ]
     },
     "execution_count": 8,
     "metadata": {},
     "output_type": "execute_result"
    }
   ],
   "source": [
    "# A look at the dataframe\n",
    "df_2014"
   ]
  },
  {
   "cell_type": "code",
   "execution_count": 9,
   "metadata": {},
   "outputs": [
    {
     "data": {
      "text/plain": [
       "Financial Services        660\n",
       "Healthcare                582\n",
       "Technology                576\n",
       "Industrials               501\n",
       "Consumer Cyclical         457\n",
       "Basic Materials           242\n",
       "Real Estate               224\n",
       "Energy                    221\n",
       "Consumer Defensive        165\n",
       "Utilities                  97\n",
       "Communication Services     83\n",
       "Name: Sector, dtype: int64"
      ]
     },
     "execution_count": 9,
     "metadata": {},
     "output_type": "execute_result"
    },
    {
     "data": {
      "image/png": "[encoded data removed]",
      "text/plain": [
       "<Figure size 1440x720 with 1 Axes>"
      ]
     },
     "metadata": {},
     "output_type": "display_data"
    }
   ],
   "source": [
    "# Plotting an attribute Sector to get the count, just as a view at dataframe\n",
    "plt.figure(figsize = (20,10))\n",
    "plot = sns.countplot(df_2014['Sector'])\n",
    "\n",
    "plot.set_xticklabels(plot.get_xticklabels(), rotation=60)\n",
    "df_2014.Sector.value_counts()"
   ]
  },
  {
   "cell_type": "code",
   "execution_count": 10,
   "metadata": {},
   "outputs": [
    {
     "data": {
      "text/html": [
       "<div>\n",
       "<style scoped>\n",
       "    .dataframe tbody tr th:only-of-type {\n",
       "        vertical-align: middle;\n",
       "    }\n",
       "\n",
       "    .dataframe tbody tr th {\n",
       "        vertical-align: top;\n",
       "    }\n",
       "\n",
       "    .dataframe thead th {\n",
       "        text-align: right;\n",
       "    }\n",
       "</style>\n",
       "<table border=\"1\" class=\"dataframe\">\n",
       "  <thead>\n",
       "    <tr style=\"text-align: right;\">\n",
       "      <th></th>\n",
       "      <th>Unnamed: 0</th>\n",
       "      <th>Revenue</th>\n",
       "      <th>Revenue Growth</th>\n",
       "      <th>Cost of Revenue</th>\n",
       "      <th>Gross Profit</th>\n",
       "      <th>R&amp;D Expenses</th>\n",
       "      <th>SG&amp;A Expense</th>\n",
       "      <th>Operating Expenses</th>\n",
       "      <th>Operating Income</th>\n",
       "      <th>Interest Expense</th>\n",
       "      <th>...</th>\n",
       "      <th>Receivables growth</th>\n",
       "      <th>Inventory Growth</th>\n",
       "      <th>Asset Growth</th>\n",
       "      <th>Book Value per Share Growth</th>\n",
       "      <th>Debt Growth</th>\n",
       "      <th>R&amp;D Expense Growth</th>\n",
       "      <th>SG&amp;A Expenses Growth</th>\n",
       "      <th>Sector</th>\n",
       "      <th>2015 PRICE VAR [%]</th>\n",
       "      <th>Class</th>\n",
       "    </tr>\n",
       "  </thead>\n",
       "  <tbody>\n",
       "    <tr>\n",
       "      <th>column type</th>\n",
       "      <td>object</td>\n",
       "      <td>float64</td>\n",
       "      <td>float64</td>\n",
       "      <td>float64</td>\n",
       "      <td>float64</td>\n",
       "      <td>float64</td>\n",
       "      <td>float64</td>\n",
       "      <td>float64</td>\n",
       "      <td>float64</td>\n",
       "      <td>float64</td>\n",
       "      <td>...</td>\n",
       "      <td>float64</td>\n",
       "      <td>float64</td>\n",
       "      <td>float64</td>\n",
       "      <td>float64</td>\n",
       "      <td>float64</td>\n",
       "      <td>float64</td>\n",
       "      <td>float64</td>\n",
       "      <td>object</td>\n",
       "      <td>float64</td>\n",
       "      <td>int64</td>\n",
       "    </tr>\n",
       "    <tr>\n",
       "      <th>null values (nb)</th>\n",
       "      <td>0</td>\n",
       "      <td>44</td>\n",
       "      <td>236</td>\n",
       "      <td>74</td>\n",
       "      <td>52</td>\n",
       "      <td>136</td>\n",
       "      <td>59</td>\n",
       "      <td>63</td>\n",
       "      <td>55</td>\n",
       "      <td>63</td>\n",
       "      <td>...</td>\n",
       "      <td>290</td>\n",
       "      <td>290</td>\n",
       "      <td>290</td>\n",
       "      <td>369</td>\n",
       "      <td>302</td>\n",
       "      <td>247</td>\n",
       "      <td>243</td>\n",
       "      <td>0</td>\n",
       "      <td>0</td>\n",
       "      <td>0</td>\n",
       "    </tr>\n",
       "    <tr>\n",
       "      <th>null values (%)</th>\n",
       "      <td>0</td>\n",
       "      <td>1.15546</td>\n",
       "      <td>6.19748</td>\n",
       "      <td>1.94328</td>\n",
       "      <td>1.36555</td>\n",
       "      <td>3.57143</td>\n",
       "      <td>1.54937</td>\n",
       "      <td>1.65441</td>\n",
       "      <td>1.44433</td>\n",
       "      <td>1.65441</td>\n",
       "      <td>...</td>\n",
       "      <td>7.61555</td>\n",
       "      <td>7.61555</td>\n",
       "      <td>7.61555</td>\n",
       "      <td>9.69013</td>\n",
       "      <td>7.93067</td>\n",
       "      <td>6.48634</td>\n",
       "      <td>6.3813</td>\n",
       "      <td>0</td>\n",
       "      <td>0</td>\n",
       "      <td>0</td>\n",
       "    </tr>\n",
       "  </tbody>\n",
       "</table>\n",
       "<p>3 rows × 225 columns</p>\n",
       "</div>"
      ],
      "text/plain": [
       "                 Unnamed: 0  Revenue Revenue Growth Cost of Revenue  \\\n",
       "column type          object  float64        float64         float64   \n",
       "null values (nb)          0       44            236              74   \n",
       "null values (%)           0  1.15546        6.19748         1.94328   \n",
       "\n",
       "                 Gross Profit R&D Expenses SG&A Expense Operating Expenses  \\\n",
       "column type           float64      float64      float64            float64   \n",
       "null values (nb)           52          136           59                 63   \n",
       "null values (%)       1.36555      3.57143      1.54937            1.65441   \n",
       "\n",
       "                 Operating Income Interest Expense  ... Receivables growth  \\\n",
       "column type               float64          float64  ...            float64   \n",
       "null values (nb)               55               63  ...                290   \n",
       "null values (%)           1.44433          1.65441  ...            7.61555   \n",
       "\n",
       "                 Inventory Growth Asset Growth Book Value per Share Growth  \\\n",
       "column type               float64      float64                     float64   \n",
       "null values (nb)              290          290                         369   \n",
       "null values (%)           7.61555      7.61555                     9.69013   \n",
       "\n",
       "                 Debt Growth R&D Expense Growth SG&A Expenses Growth  Sector  \\\n",
       "column type          float64            float64              float64  object   \n",
       "null values (nb)         302                247                  243       0   \n",
       "null values (%)      7.93067            6.48634               6.3813       0   \n",
       "\n",
       "                 2015 PRICE VAR [%]  Class  \n",
       "column type                 float64  int64  \n",
       "null values (nb)                  0      0  \n",
       "null values (%)                   0      0  \n",
       "\n",
       "[3 rows x 225 columns]"
      ]
     },
     "metadata": {},
     "output_type": "display_data"
    }
   ],
   "source": [
    "# Data missing information for 2014 year\n",
    "data_info=pd.DataFrame(df_2014.dtypes).T.rename(index={0:'column type'})\n",
    "data_info=data_info.append(pd.DataFrame(df_2014.isnull().sum()).T.rename(index={0:'null values (nb)'}))\n",
    "data_info=data_info.append(pd.DataFrame(df_2014.isnull().sum()/df_2014.shape[0]*100).T.rename(index={0:'null values (%)'}))\n",
    "display(data_info)"
   ]
  },
  {
   "cell_type": "code",
   "execution_count": 11,
   "metadata": {},
   "outputs": [
    {
     "data": {
      "text/html": [
       "<div>\n",
       "<style scoped>\n",
       "    .dataframe tbody tr th:only-of-type {\n",
       "        vertical-align: middle;\n",
       "    }\n",
       "\n",
       "    .dataframe tbody tr th {\n",
       "        vertical-align: top;\n",
       "    }\n",
       "\n",
       "    .dataframe thead th {\n",
       "        text-align: right;\n",
       "    }\n",
       "</style>\n",
       "<table border=\"1\" class=\"dataframe\">\n",
       "  <thead>\n",
       "    <tr style=\"text-align: right;\">\n",
       "      <th></th>\n",
       "      <th>Unnamed: 0</th>\n",
       "      <th>Revenue</th>\n",
       "      <th>Revenue Growth</th>\n",
       "      <th>Cost of Revenue</th>\n",
       "      <th>Gross Profit</th>\n",
       "      <th>R&amp;D Expenses</th>\n",
       "      <th>SG&amp;A Expense</th>\n",
       "      <th>Operating Expenses</th>\n",
       "      <th>Operating Income</th>\n",
       "      <th>Interest Expense</th>\n",
       "      <th>...</th>\n",
       "      <th>Receivables growth</th>\n",
       "      <th>Inventory Growth</th>\n",
       "      <th>Asset Growth</th>\n",
       "      <th>Book Value per Share Growth</th>\n",
       "      <th>Debt Growth</th>\n",
       "      <th>R&amp;D Expense Growth</th>\n",
       "      <th>SG&amp;A Expenses Growth</th>\n",
       "      <th>Sector</th>\n",
       "      <th>2016 PRICE VAR [%]</th>\n",
       "      <th>Class</th>\n",
       "    </tr>\n",
       "  </thead>\n",
       "  <tbody>\n",
       "    <tr>\n",
       "      <th>column type</th>\n",
       "      <td>object</td>\n",
       "      <td>float64</td>\n",
       "      <td>float64</td>\n",
       "      <td>float64</td>\n",
       "      <td>float64</td>\n",
       "      <td>float64</td>\n",
       "      <td>float64</td>\n",
       "      <td>float64</td>\n",
       "      <td>float64</td>\n",
       "      <td>float64</td>\n",
       "      <td>...</td>\n",
       "      <td>float64</td>\n",
       "      <td>float64</td>\n",
       "      <td>float64</td>\n",
       "      <td>float64</td>\n",
       "      <td>float64</td>\n",
       "      <td>float64</td>\n",
       "      <td>float64</td>\n",
       "      <td>object</td>\n",
       "      <td>float64</td>\n",
       "      <td>int64</td>\n",
       "    </tr>\n",
       "    <tr>\n",
       "      <th>null values (nb)</th>\n",
       "      <td>0</td>\n",
       "      <td>67</td>\n",
       "      <td>340</td>\n",
       "      <td>193</td>\n",
       "      <td>65</td>\n",
       "      <td>265</td>\n",
       "      <td>170</td>\n",
       "      <td>174</td>\n",
       "      <td>42</td>\n",
       "      <td>175</td>\n",
       "      <td>...</td>\n",
       "      <td>368</td>\n",
       "      <td>369</td>\n",
       "      <td>369</td>\n",
       "      <td>458</td>\n",
       "      <td>399</td>\n",
       "      <td>351</td>\n",
       "      <td>347</td>\n",
       "      <td>0</td>\n",
       "      <td>0</td>\n",
       "      <td>0</td>\n",
       "    </tr>\n",
       "    <tr>\n",
       "      <th>null values (%)</th>\n",
       "      <td>0</td>\n",
       "      <td>1.62621</td>\n",
       "      <td>8.25243</td>\n",
       "      <td>4.68447</td>\n",
       "      <td>1.57767</td>\n",
       "      <td>6.43204</td>\n",
       "      <td>4.12621</td>\n",
       "      <td>4.2233</td>\n",
       "      <td>1.01942</td>\n",
       "      <td>4.24757</td>\n",
       "      <td>...</td>\n",
       "      <td>8.93204</td>\n",
       "      <td>8.95631</td>\n",
       "      <td>8.95631</td>\n",
       "      <td>11.1165</td>\n",
       "      <td>9.68447</td>\n",
       "      <td>8.51942</td>\n",
       "      <td>8.42233</td>\n",
       "      <td>0</td>\n",
       "      <td>0</td>\n",
       "      <td>0</td>\n",
       "    </tr>\n",
       "  </tbody>\n",
       "</table>\n",
       "<p>3 rows × 225 columns</p>\n",
       "</div>"
      ],
      "text/plain": [
       "                 Unnamed: 0  Revenue Revenue Growth Cost of Revenue  \\\n",
       "column type          object  float64        float64         float64   \n",
       "null values (nb)          0       67            340             193   \n",
       "null values (%)           0  1.62621        8.25243         4.68447   \n",
       "\n",
       "                 Gross Profit R&D Expenses SG&A Expense Operating Expenses  \\\n",
       "column type           float64      float64      float64            float64   \n",
       "null values (nb)           65          265          170                174   \n",
       "null values (%)       1.57767      6.43204      4.12621             4.2233   \n",
       "\n",
       "                 Operating Income Interest Expense  ... Receivables growth  \\\n",
       "column type               float64          float64  ...            float64   \n",
       "null values (nb)               42              175  ...                368   \n",
       "null values (%)           1.01942          4.24757  ...            8.93204   \n",
       "\n",
       "                 Inventory Growth Asset Growth Book Value per Share Growth  \\\n",
       "column type               float64      float64                     float64   \n",
       "null values (nb)              369          369                         458   \n",
       "null values (%)           8.95631      8.95631                     11.1165   \n",
       "\n",
       "                 Debt Growth R&D Expense Growth SG&A Expenses Growth  Sector  \\\n",
       "column type          float64            float64              float64  object   \n",
       "null values (nb)         399                351                  347       0   \n",
       "null values (%)      9.68447            8.51942              8.42233       0   \n",
       "\n",
       "                 2016 PRICE VAR [%]  Class  \n",
       "column type                 float64  int64  \n",
       "null values (nb)                  0      0  \n",
       "null values (%)                   0      0  \n",
       "\n",
       "[3 rows x 225 columns]"
      ]
     },
     "metadata": {},
     "output_type": "display_data"
    }
   ],
   "source": [
    "# Data missing information for 2015 year\n",
    "data_info=pd.DataFrame(df_2015.dtypes).T.rename(index={0:'column type'})\n",
    "data_info=data_info.append(pd.DataFrame(df_2015.isnull().sum()).T.rename(index={0:'null values (nb)'}))\n",
    "data_info=data_info.append(pd.DataFrame(df_2015.isnull().sum()/df_2015.shape[0]*100).T.\n",
    "                         rename(index={0:'null values (%)'}))\n",
    "display(data_info)"
   ]
  },
  {
   "cell_type": "code",
   "execution_count": 12,
   "metadata": {},
   "outputs": [],
   "source": [
    "# Fiiling missing values with 0\n",
    "# A better idea could have been to fill with each column with the mean or the median\n",
    "df_2014.fillna(0,inplace=True)\n",
    "df_2015.fillna(0,inplace=True)\n",
    "df_2016.fillna(0,inplace=True)"
   ]
  },
  {
   "cell_type": "code",
   "execution_count": 13,
   "metadata": {},
   "outputs": [],
   "source": [
    "# Considering PG company only \n",
    "df_2014 = df_2014[df_2014['Unnamed: 0'] =='PG' ]\n",
    "df_2015 = df_2015[df_2015['Unnamed: 0'] =='PG' ]\n",
    "df_2016 = df_2016[df_2016['Unnamed: 0'] =='PG' ] "
   ]
  },
  {
   "cell_type": "code",
   "execution_count": 14,
   "metadata": {},
   "outputs": [],
   "source": [
    "# Combining all the dataframes in a single one\n",
    "df = df_2014.append([df_2015,df_2016])\n",
    "df.fillna(0,inplace=True)\n",
    "df.index = [2014,2015,2016]"
   ]
  },
  {
   "cell_type": "code",
   "execution_count": 15,
   "metadata": {},
   "outputs": [
    {
     "name": "stdout",
     "output_type": "stream",
     "text": [
      "Mean of Quick Ratio for P&G last 3 year is 0.54 \n"
     ]
    },
    {
     "data": {
      "image/png": "[encoded data removed]",
      "text/plain": [
       "<Figure size 1080x504 with 1 Axes>"
      ]
     },
     "metadata": {},
     "output_type": "display_data"
    }
   ],
   "source": [
    "# Getting some insights through visualisation of Quick Ratio\n",
    "print(\"Mean of Quick Ratio for P&G last 3 year is {:.2f} \".format(df['quickRatio'].mean()))\n",
    "plt.figure(figsize=(15, 7))\n",
    "df['quickRatio'].plot.bar(color='y')\n",
    "plt.xlabel('Years')\n",
    "plt.ylabel('Quick Ratio')\n",
    "plt.title('Quick Ratio analysis P&G ')\n",
    "plt.grid(False)\n",
    "plt.show()"
   ]
  },
  {
   "cell_type": "markdown",
   "metadata": {},
   "source": [
    "P&G has 0.54 Quick ratio this mean company has more than double liabilities compare to current assets, This mean company can not fulfill short term obligations Before we reach any conclusion about short term obligation ,we need analyze to current ratio also"
   ]
  },
  {
   "cell_type": "markdown",
   "metadata": {},
   "source": [
    "Current Ratio : Current Assest+Inventory / Current Liabilites\n",
    "Good Current ratio in between 1 and 2 , if current ratio more than 2 it mean company unable to make use of inventory"
   ]
  },
  {
   "cell_type": "code",
   "execution_count": 16,
   "metadata": {},
   "outputs": [
    {
     "name": "stdout",
     "output_type": "stream",
     "text": [
      "Mean of Quick Ratio for P&G last 3 year is 1.01 \n"
     ]
    },
    {
     "data": {
      "image/png": "[encoded data removed]",
      "text/plain": [
       "<Figure size 1080x504 with 1 Axes>"
      ]
     },
     "metadata": {},
     "output_type": "display_data"
    }
   ],
   "source": [
    "# Current ratio\n",
    "print(\"Mean of Quick Ratio for P&G last 3 year is {:.2f} \".format(df['currentRatio'].mean()))\n",
    "plt.figure(figsize=(15, 7))\n",
    "df['currentRatio'].plot.bar()\n",
    "plt.xlabel('Years')\n",
    "plt.ylabel('Current Ratio')\n",
    "plt.title('Current Ratio analysis P&G ')\n",
    "plt.grid(True)\n",
    "plt.show()"
   ]
  },
  {
   "cell_type": "code",
   "execution_count": 17,
   "metadata": {},
   "outputs": [
    {
     "name": "stdout",
     "output_type": "stream",
     "text": [
      "Mean of Debt to Equity  Ratio for P&G last 3 year is 0.51 \n"
     ]
    },
    {
     "data": {
      "image/png": "[encoded data removed]",
      "text/plain": [
       "<Figure size 1080x504 with 1 Axes>"
      ]
     },
     "metadata": {},
     "output_type": "display_data"
    }
   ],
   "source": [
    "# Debt to Equity ratio\n",
    "print(\"Mean of Debt to Equity  Ratio for P&G last 3 year is {:.2f} \".format(df['debtEquityRatio'].mean()))\n",
    "plt.figure(figsize=(15, 7))\n",
    "df['debtEquityRatio'].plot.bar()\n",
    "plt.xlabel('Years')\n",
    "plt.ylabel('debtEquity Ratio')\n",
    "plt.title('Debt Equity Ratio analysis P&G ')\n",
    "plt.grid(True)\n",
    "plt.show()"
   ]
  },
  {
   "cell_type": "code",
   "execution_count": 18,
   "metadata": {},
   "outputs": [
    {
     "name": "stdout",
     "output_type": "stream",
     "text": [
      "Mean of Inventory Turnover for P&G last 3 year is 12.14 \n"
     ]
    },
    {
     "data": {
      "image/png": "[encoded data removed]",
      "text/plain": [
       "<Figure size 1080x504 with 1 Axes>"
      ]
     },
     "metadata": {},
     "output_type": "display_data"
    }
   ],
   "source": [
    "# Return on equity\n",
    "print(\"Mean of Inventory Turnover for P&G last 3 year is {:.2f} \".format(df['inventoryTurnover'].mean()))\n",
    "plt.figure(figsize=(15, 7))\n",
    "df['inventoryTurnover'].plot.bar()\n",
    "plt.xlabel('Years')\n",
    "plt.ylabel('Inventory Turnover')\n",
    "plt.title('Inventory Turnover analysis P&G ')\n",
    "plt.grid(True)\n",
    "plt.show()"
   ]
  },
  {
   "cell_type": "markdown",
   "metadata": {},
   "source": [
    "# Balance Sheet Analysis\n",
    "* ** Balance sheet has Two Section Asset and liabilites**\n",
    "* ** Asset Section has two option : short term assets and long term assets **\n",
    "* ** Liabilities section also has two option : short term liabilities and long term Liabilities **\n",
    "* ** Short Term Asset : Cash and cash reserve,cash equivalent,Inventories,account receviables,securities etc..**\n",
    "* ** Long Term Asset : Property ,plant and equipment,long term investment,all intengible assets**\n",
    "* ** Short term Liabilities : Short term debts, dividend payable,trade account payable,customer deposits,current position of long term debts**\n",
    "* ** Long Term Liabilities : Long term loans,deffered revenues, deffered compenstions etc..**\n",
    "* ** Let's analyze one by one **"
   ]
  },
  {
   "cell_type": "markdown",
   "metadata": {},
   "source": [
    " ### Short Term Assets of P&G \n",
    "* **Cash and Cash Equivalent**\n",
    "* **Cash and Short-Term Investment**\n",
    "* **Inventories**\n",
    "* **Average Receivables**\n",
    "* **Investment **"
   ]
  },
  {
   "cell_type": "code",
   "execution_count": 19,
   "metadata": {},
   "outputs": [],
   "source": [
    "# Data Manipulation\n",
    "df['ShortTermAssest'] = df['Cash and cash equivalents'] + df['Cash and short-term investments']+df['Inventories']+df['Average Receivables']\\\n",
    "                        + df['Investments']+df['Investment purchases and sales']+df['Short-term investments']\n",
    "\n",
    "df['liquidcash'] = df['Cash and cash equivalents'] + df['Cash and short-term investments']"
   ]
  },
  {
   "cell_type": "code",
   "execution_count": 20,
   "metadata": {},
   "outputs": [
    {
     "name": "stdout",
     "output_type": "stream",
     "text": [
      "Mean of short Term assest for P&G last 3 year is 37494500000.00 \n"
     ]
    },
    {
     "data": {
      "image/png": "[encoded data removed]",
      "text/plain": [
       "<Figure size 1080x504 with 1 Axes>"
      ]
     },
     "metadata": {},
     "output_type": "display_data"
    }
   ],
   "source": [
    "# Short Term Assets\n",
    "n_year = 3\n",
    "index = np.arange(n_year)\n",
    "bar_width = 0.35\n",
    "opacity = 0.7\n",
    "\n",
    "print(\"Mean of short Term assest for P&G last 3 year is {:.2f} \".format(df['ShortTermAssest'].mean()))\n",
    "\n",
    "plt.figure(figsize=(15, 7))\n",
    "plt.bar(index,df['ShortTermAssest'],bar_width,alpha=opacity,color='b',label='Short Term Assest')\n",
    "plt.bar(index+bar_width,df['liquidcash'],bar_width,alpha=opacity,color='y',label='liquid Cash')\n",
    "plt.xlabel('Years')\n",
    "plt.ylabel('Short Term Assests')\n",
    "plt.title('Short Term Assest or Current Assest analysis P&G ')\n",
    "plt.xticks(index+0.20, df.index)\n",
    "plt.grid(False)\n",
    "plt.legend()\n",
    "plt.show()"
   ]
  },
  {
   "cell_type": "markdown",
   "metadata": {},
   "source": [
    "### Long Term Asset\n",
    "**Long Term Asset ,I am considering following parameters**\n",
    "* **Property,Plant and Equipment**\n",
    "* **Goodwill and Intangible Assets**\n",
    "* **Long-Term Investment**"
   ]
  },
  {
   "cell_type": "code",
   "execution_count": 21,
   "metadata": {},
   "outputs": [
    {
     "name": "stdout",
     "output_type": "stream",
     "text": [
      "Mean of Long Term assest for P&G last 3 year is 94800000000.00 \n",
      "Mean Percentage Long Term asset out of Total Asset for P&G last 3 year is 70.94% \n"
     ]
    },
    {
     "data": {
      "image/png": "[encoded data removed]",
      "text/plain": [
       "<Figure size 1080x504 with 1 Axes>"
      ]
     },
     "metadata": {},
     "output_type": "display_data"
    }
   ],
   "source": [
    "# Long Term Asset and Short-Term Asset\n",
    "df['LongTermAsset'] = df['Property, Plant & Equipment Net'] +df['Goodwill and Intangible Assets']+df['Long-term investments']\n",
    "# Long term Asset\n",
    "n_year = 3\n",
    "index = np.arange(n_year)\n",
    "bar_width = 0.3\n",
    "opacity = 0.7\n",
    "\n",
    "print(\"Mean of Long Term assest for P&G last 3 year is {:.2f} \".format(df['LongTermAsset'].mean()))\n",
    "\n",
    "print(\"Mean Percentage Long Term asset out of Total Asset for P&G last 3 year is {:.2f}% \".format((df['LongTermAsset'].mean()/df['Total assets'].mean())*100))\n",
    "\n",
    "\n",
    "plt.figure(figsize=(15, 7))\n",
    "plt.bar(index,df['LongTermAsset'],bar_width,alpha=opacity,color='b',label='Long Term Asset')\n",
    "plt.bar(index+bar_width,df['ShortTermAssest'],bar_width,alpha=opacity,color='y',label='short Term Asset')\n",
    "plt.bar(index-bar_width,df['Total assets'],bar_width,alpha=opacity,color='g',label='Total Asset')\n",
    "plt.xlabel('Years')\n",
    "plt.ylabel('Asset Analysis')\n",
    "plt.title('Short Term Assest and  Long Assest analysis P&G ')\n",
    "plt.xticks(index+0.10, df.index)\n",
    "plt.grid(False)\n",
    "plt.legend()\n",
    "plt.show();"
   ]
  },
  {
   "cell_type": "markdown",
   "metadata": {},
   "source": [
    "## liabilities\n",
    "### Short Term Liabilities\n",
    "* **Short Term Debt**\n",
    "* **Dividend Payable**\n",
    "* **Account Payable**\n",
    "* **But Here in our data we have Total current liablities**"
   ]
  },
  {
   "cell_type": "markdown",
   "metadata": {},
   "source": [
    "Main insights :\n",
    "- P&G has good Current ratio (0.95) but still company has more current liabilites compare to current assests\n",
    "- Let's Analyze debt to equity Ratio : The debt-to-equity (D/E) ratio is calculated by dividing a company’s total liabilities by its shareholder equity it reflects the ability of shareholder equity to cover all outstanding debts in the event of a business downturn.\n",
    "- Debt/Equity= Total Liabilities/Shareholder Equity\n",
    "- Total Asset = Liabilities + Shareholder equity"
   ]
  },
  {
   "cell_type": "markdown",
   "metadata": {},
   "source": [
    "#### Data was quite large and messy in some ways as well.\n",
    "#### I tried a better effort to make it all clear what was asked in the problem statement\n",
    "#### If anything has not been upto the mark, I am ready to improve now,\n",
    "#### while being with 'PixiuAI'\n",
    "#### Some of my confusions were cleared from Internet and took some help to be honest\n",
    "#### Most of the things I tried to put my efforts in.\n",
    "#### Thank you"
   ]
  },
  {
   "cell_type": "markdown",
   "metadata": {},
   "source": [
    "### Done with the main task"
   ]
  },
  {
   "cell_type": "markdown",
   "metadata": {},
   "source": [
    "<hr>"
   ]
  },
  {
   "cell_type": "code",
   "execution_count": null,
   "metadata": {},
   "outputs": [],
   "source": []
  },
  {
   "cell_type": "markdown",
   "metadata": {},
   "source": [
    "# Problem Statement 4"
   ]
  },
  {
   "cell_type": "markdown",
   "metadata": {},
   "source": [
    "### Question 1 <br>\n",
    "- Fetch the data about astronauts currently in space. [1 point] <br>\n",
    "use http://api.open-notify.org/astros.json"
   ]
  },
  {
   "cell_type": "code",
   "execution_count": 22,
   "metadata": {},
   "outputs": [],
   "source": [
    "import requests # Import "
   ]
  },
  {
   "cell_type": "code",
   "execution_count": 23,
   "metadata": {
    "scrolled": true
   },
   "outputs": [
    {
     "data": {
      "text/plain": [
       "{'message': 'success',\n",
       " 'number': 7,\n",
       " 'people': [{'craft': 'ISS', 'name': 'Sergey Ryzhikov'},\n",
       "  {'craft': 'ISS', 'name': 'Kate Rubins'},\n",
       "  {'craft': 'ISS', 'name': 'Sergey Kud-Sverchkov'},\n",
       "  {'craft': 'ISS', 'name': 'Mike Hopkins'},\n",
       "  {'craft': 'ISS', 'name': 'Victor Glover'},\n",
       "  {'craft': 'ISS', 'name': 'Shannon Walker'},\n",
       "  {'craft': 'ISS', 'name': 'Soichi Noguchi'}]}"
      ]
     },
     "execution_count": 23,
     "metadata": {},
     "output_type": "execute_result"
    }
   ],
   "source": [
    "response = requests.get(\"http://api.open-notify.org/astros.json\")\n",
    "resp = response.json()\n",
    "resp\n",
    "# Request to the api"
   ]
  },
  {
   "cell_type": "code",
   "execution_count": 24,
   "metadata": {},
   "outputs": [
    {
     "name": "stdout",
     "output_type": "stream",
     "text": [
      "Number of astronaughts currently in space = 7\n",
      "\n",
      "People :--- \n",
      "\n",
      "Sergey Ryzhikov\n",
      "Kate Rubins\n",
      "Sergey Kud-Sverchkov\n",
      "Mike Hopkins\n",
      "Victor Glover\n",
      "Shannon Walker\n",
      "Soichi Noguchi\n"
     ]
    }
   ],
   "source": [
    "print('Number of astronaughts currently in space =',resp['number'])\n",
    "print('\\nPeople :--- \\n')\n",
    "for people in resp['people']:\n",
    "    print(people['name'])\n",
    "\n",
    "names = []\n",
    "craft = []\n",
    "for i in range(resp['number']):\n",
    "    names.append(resp['people'][i]['name'])\n",
    "    craft.append(resp['people'][i]['craft'])\n",
    "# Getting Output"
   ]
  },
  {
   "cell_type": "code",
   "execution_count": 25,
   "metadata": {},
   "outputs": [
    {
     "name": "stdout",
     "output_type": "stream",
     "text": [
      "   index                 names craft\n",
      "0      1       Sergey Ryzhikov   ISS\n",
      "1      2           Kate Rubins   ISS\n",
      "2      3  Sergey Kud-Sverchkov   ISS\n",
      "3      4          Mike Hopkins   ISS\n",
      "4      5         Victor Glover   ISS\n",
      "5      6        Shannon Walker   ISS\n",
      "6      7        Soichi Noguchi   ISS\n"
     ]
    }
   ],
   "source": [
    "df = pd.DataFrame(range(1,resp['number']+1))\n",
    "df['1'] = names\n",
    "df['2'] = craft\n",
    "df.columns = ['index','names','craft']\n",
    "print(df)\n",
    "df.to_csv('Astronauts.csv',index=False)\n",
    "# Saving it to csv"
   ]
  },
  {
   "cell_type": "markdown",
   "metadata": {},
   "source": [
    "### Question 2 <br>\n",
    "- Next times that the international space station will pass over a given location on the earth.<br> Request should take lat (latitude) and long (longitude) as parameters. [2 points]<br>\n",
    "Use  http://api.open-notify.org/iss-pass.json <br>\n",
    "<br>\n",
    "Store these results as JSON  and CSV format."
   ]
  },
  {
   "cell_type": "code",
   "execution_count": 26,
   "metadata": {},
   "outputs": [
    {
     "data": {
      "text/plain": [
       "{'message': 'success',\n",
       " 'request': {'altitude': 100,\n",
       "  'datetime': 1611773572,\n",
       "  'latitude': 50.0,\n",
       "  'longitude': 50.0,\n",
       "  'passes': 5},\n",
       " 'response': [{'duration': 577, 'risetime': 1611833277},\n",
       "  {'duration': 655, 'risetime': 1611839019},\n",
       "  {'duration': 657, 'risetime': 1611844830},\n",
       "  {'duration': 658, 'risetime': 1611850646},\n",
       "  {'duration': 616, 'risetime': 1611856459}]}"
      ]
     },
     "execution_count": 26,
     "metadata": {},
     "output_type": "execute_result"
    }
   ],
   "source": [
    "lat = 50\n",
    "long = 50\n",
    "response = requests.get(f\"http://api.open-notify.org/iss-pass.json?lat={lat}&lon={long}\")\n",
    "resp = response.json()\n",
    "resp"
   ]
  },
  {
   "cell_type": "code",
   "execution_count": 27,
   "metadata": {},
   "outputs": [],
   "source": [
    "altitude = resp['request']['altitude']\n",
    "passes = resp['request']['passes']\n",
    "duration_risetime = []\n",
    "for i in range(passes):\n",
    "    duration_risetime.append([resp['response'][i]['duration'],resp['response'][i]['risetime']])\n"
   ]
  },
  {
   "cell_type": "code",
   "execution_count": 28,
   "metadata": {},
   "outputs": [
    {
     "name": "stdout",
     "output_type": "stream",
     "text": [
      "   Duration    Risetime\n",
      "0       577  1611833277\n",
      "1       655  1611839019\n",
      "2       657  1611844830\n",
      "3       658  1611850646\n",
      "4       616  1611856459\n"
     ]
    }
   ],
   "source": [
    "df = pd.DataFrame(duration_risetime)\n",
    "df.columns = ['Duration','Risetime']\n",
    "print(df)\n",
    "df.to_csv('PassingSS.csv',index=False)"
   ]
  },
  {
   "cell_type": "markdown",
   "metadata": {},
   "source": [
    "### The END"
   ]
  },
  {
   "cell_type": "markdown",
   "metadata": {},
   "source": [
    "## Chaudhary Hamdan\n",
    "### ch.hamdan.edu@gmail.com"
   ]
  },
  {
   "cell_type": "markdown",
   "metadata": {},
   "source": [
    "# Thank You"
   ]
  },
  {
   "cell_type": "markdown",
   "metadata": {},
   "source": [
    "<hr>"
   ]
  },
  {
   "cell_type": "code",
   "execution_count": null,
   "metadata": {},
   "outputs": [],
   "source": []
  }
 ],
 "metadata": {
  "kernelspec": {
   "display_name": "Python 3",
   "language": "python",
   "name": "python3"
  },
  "language_info": {
   "codemirror_mode": {
    "name": "ipython",
    "version": 3
   },
   "file_extension": ".py",
   "mimetype": "text/x-python",
   "name": "python",
   "nbconvert_exporter": "python",
   "pygments_lexer": "ipython3",
   "version": "3.6.5"
  }
 },
 "nbformat": 4,
 "nbformat_minor": 2
}
